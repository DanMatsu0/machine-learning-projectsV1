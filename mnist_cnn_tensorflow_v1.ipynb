{
  "nbformat": 4,
  "nbformat_minor": 0,
  "metadata": {
    "colab": {
      "provenance": [],
      "machine_shape": "hm",
      "gpuType": "L4",
      "authorship_tag": "ABX9TyMCtFvd8j1ixLABW7nyQQPe",
      "include_colab_link": true
    },
    "kernelspec": {
      "name": "python3",
      "display_name": "Python 3"
    },
    "language_info": {
      "name": "python"
    },
    "accelerator": "GPU"
  },
  "cells": [
    {
      "cell_type": "markdown",
      "metadata": {
        "id": "view-in-github",
        "colab_type": "text"
      },
      "source": [
        "<a href=\"https://colab.research.google.com/github/DanMatsu0/machine-learning-projectsV1/blob/main/mnist_cnn_tensorflow_v1.ipynb\" target=\"_parent\"><img src=\"https://colab.research.google.com/assets/colab-badge.svg\" alt=\"Open In Colab\"/></a>"
      ]
    },
    {
      "cell_type": "markdown",
      "source": [
        "Import"
      ],
      "metadata": {
        "id": "d_kIDaDA1_9u"
      }
    },
    {
      "cell_type": "code",
      "execution_count": 1,
      "metadata": {
        "id": "nGT9Fwnh15qL"
      },
      "outputs": [],
      "source": [
        "import tensorflow as tf\n",
        "#V3追加\n",
        "from sklearn.model_selection import train_test_split\n",
        "from sklearn.model_selection import KFold"
      ]
    },
    {
      "cell_type": "markdown",
      "source": [
        "データセットの読み込み"
      ],
      "metadata": {
        "id": "e-0HNGmk8ng_"
      }
    },
    {
      "cell_type": "code",
      "source": [
        "# データセットのロード\n",
        "(x_train, y_train), (x_test, y_test) = tf.keras.datasets.mnist.load_data()"
      ],
      "metadata": {
        "colab": {
          "base_uri": "https://localhost:8080/"
        },
        "id": "EvVnnQlh9HIc",
        "outputId": "c27ecf6b-cf8a-4649-a125-2687903cdd3a"
      },
      "execution_count": 2,
      "outputs": [
        {
          "output_type": "stream",
          "name": "stdout",
          "text": [
            "Downloading data from https://storage.googleapis.com/tensorflow/tf-keras-datasets/mnist.npz\n",
            "11490434/11490434 [==============================] - 2s 0us/step\n"
          ]
        }
      ]
    },
    {
      "cell_type": "code",
      "source": [
        "# データの前処理\n",
        "x_train = x_train.reshape(x_train.shape[0], 28, 28, 1)\n",
        "x_test = x_test.reshape(x_test.shape[0], 28, 28, 1)\n",
        "\n",
        "x_train = x_train.astype('float32') / 255\n",
        "x_test = x_test.astype('float32') / 255\n",
        "\n",
        "#V2追加\n",
        "# データセットをバッチ化\n",
        "test_dataset = tf.data.Dataset.from_tensor_slices((x_test, y_test)).batch(64)\n",
        "\n"
      ],
      "metadata": {
        "id": "S4krjp0xHOZm"
      },
      "execution_count": 3,
      "outputs": []
    },
    {
      "cell_type": "code",
      "source": [
        "# 出力結果の固定\n",
        "tf.random.set_seed(0)\n",
        "\n",
        "\n",
        "#v3\n",
        "# K-Fold 交差検証\n",
        "k = 5  # K-Fold 交差検証の K を設定\n",
        "scores = []  # 各 Fold の精度を格納するリスト\n",
        "\n",
        "# 各 Fold でモデルを訓練・評価\n",
        "for train_index, val_index in KFold(n_splits=k, shuffle=True).split(x_train, y_train):\n",
        "    x_train_fold, x_val_fold = x_train[train_index], x_train[val_index]\n",
        "    y_train_fold, y_val_fold = y_train[train_index], y_train[val_index]\n",
        "\n",
        "    # データセットをバッチ化\n",
        "    train_fold_dataset = tf.data.Dataset.from_tensor_slices((x_train_fold, y_train_fold)).batch(64)\n",
        "    val_fold_dataset = tf.data.Dataset.from_tensor_slices((x_val_fold, y_val_fold)).batch(64)\n",
        "\n",
        "    # モデルの定義\n",
        "    model = tf.keras.Sequential([\n",
        "    tf.keras.layers.Conv2D(6, (5, 5), activation='relu', input_shape=(28, 28, 1)),\n",
        "    tf.keras.layers.MaxPooling2D((2, 2)),\n",
        "    tf.keras.layers.Conv2D(16, (5, 5), activation='relu'),\n",
        "    tf.keras.layers.MaxPooling2D((2, 2)),\n",
        "    tf.keras.layers.Flatten(),\n",
        "    tf.keras.layers.Dense(120, activation='relu'),\n",
        "    tf.keras.layers.Dense(10, activation='softmax')\n",
        "    ])\n",
        "\n",
        "    # モデルのコンパイル\n",
        "    model.compile(optimizer='adam',\n",
        "                  loss='sparse_categorical_crossentropy',\n",
        "                  metrics=['accuracy'])\n",
        "\n",
        "    # モデルの訓練\n",
        "    model.fit(train_fold_dataset, epochs=5, steps_per_epoch=len(train_fold_dataset))\n",
        "\n",
        "    # モデルの評価\n",
        "    val_loss, val_acc = model.evaluate(val_fold_dataset)\n",
        "    test_loss, test_acc = model.evaluate(test_dataset)\n",
        "    print('Val accuracy:', val_acc)\n",
        "    print('Test accuracy:', test_acc)\n",
        "    scores.append(val_acc)\n",
        "\n",
        "# 平均精度を計算\n",
        "print('平均精度:', sum(scores) / len(scores))\n",
        "\n"
      ],
      "metadata": {
        "colab": {
          "base_uri": "https://localhost:8080/"
        },
        "id": "BL8SD_TzRQbL",
        "outputId": "cfefcb3a-813f-4180-c18b-922fe603fa46"
      },
      "execution_count": 4,
      "outputs": [
        {
          "output_type": "stream",
          "name": "stdout",
          "text": [
            "Epoch 1/5\n",
            "750/750 [==============================] - 6s 3ms/step - loss: 0.3053 - accuracy: 0.9112\n",
            "Epoch 2/5\n",
            "750/750 [==============================] - 2s 3ms/step - loss: 0.0937 - accuracy: 0.9714\n",
            "Epoch 3/5\n",
            "750/750 [==============================] - 2s 3ms/step - loss: 0.0665 - accuracy: 0.9793\n",
            "Epoch 4/5\n",
            "750/750 [==============================] - 2s 3ms/step - loss: 0.0519 - accuracy: 0.9842\n",
            "Epoch 5/5\n",
            "750/750 [==============================] - 2s 3ms/step - loss: 0.0419 - accuracy: 0.9871\n",
            "188/188 [==============================] - 1s 2ms/step - loss: 0.0593 - accuracy: 0.9822\n",
            "157/157 [==============================] - 0s 2ms/step - loss: 0.0488 - accuracy: 0.9836\n",
            "Val accuracy: 0.9822499752044678\n",
            "Test accuracy: 0.9836000204086304\n",
            "Epoch 1/5\n",
            "750/750 [==============================] - 3s 3ms/step - loss: 0.2769 - accuracy: 0.9196\n",
            "Epoch 2/5\n",
            "750/750 [==============================] - 2s 3ms/step - loss: 0.0906 - accuracy: 0.9726\n",
            "Epoch 3/5\n",
            "750/750 [==============================] - 2s 3ms/step - loss: 0.0642 - accuracy: 0.9805\n",
            "Epoch 4/5\n",
            "750/750 [==============================] - 2s 3ms/step - loss: 0.0507 - accuracy: 0.9837\n",
            "Epoch 5/5\n",
            "750/750 [==============================] - 2s 3ms/step - loss: 0.0407 - accuracy: 0.9875\n",
            "188/188 [==============================] - 0s 2ms/step - loss: 0.0493 - accuracy: 0.9850\n",
            "157/157 [==============================] - 0s 2ms/step - loss: 0.0443 - accuracy: 0.9849\n",
            "Val accuracy: 0.9850000143051147\n",
            "Test accuracy: 0.9848999977111816\n",
            "Epoch 1/5\n",
            "750/750 [==============================] - 3s 3ms/step - loss: 0.3111 - accuracy: 0.9065\n",
            "Epoch 2/5\n",
            "750/750 [==============================] - 2s 3ms/step - loss: 0.0895 - accuracy: 0.9722\n",
            "Epoch 3/5\n",
            "750/750 [==============================] - 2s 3ms/step - loss: 0.0625 - accuracy: 0.9806\n",
            "Epoch 4/5\n",
            "750/750 [==============================] - 2s 3ms/step - loss: 0.0487 - accuracy: 0.9851\n",
            "Epoch 5/5\n",
            "750/750 [==============================] - 2s 3ms/step - loss: 0.0396 - accuracy: 0.9877\n",
            "188/188 [==============================] - 0s 2ms/step - loss: 0.0656 - accuracy: 0.9803\n",
            "157/157 [==============================] - 0s 2ms/step - loss: 0.0510 - accuracy: 0.9830\n",
            "Val accuracy: 0.9802500009536743\n",
            "Test accuracy: 0.9829999804496765\n",
            "Epoch 1/5\n",
            "750/750 [==============================] - 3s 3ms/step - loss: 0.3010 - accuracy: 0.9117\n",
            "Epoch 2/5\n",
            "750/750 [==============================] - 2s 3ms/step - loss: 0.0919 - accuracy: 0.9719\n",
            "Epoch 3/5\n",
            "750/750 [==============================] - 2s 3ms/step - loss: 0.0634 - accuracy: 0.9806\n",
            "Epoch 4/5\n",
            "750/750 [==============================] - 2s 3ms/step - loss: 0.0491 - accuracy: 0.9855\n",
            "Epoch 5/5\n",
            "750/750 [==============================] - 2s 3ms/step - loss: 0.0394 - accuracy: 0.9884\n",
            "188/188 [==============================] - 0s 2ms/step - loss: 0.0446 - accuracy: 0.9855\n",
            "157/157 [==============================] - 0s 2ms/step - loss: 0.0397 - accuracy: 0.9855\n",
            "Val accuracy: 0.9854999780654907\n",
            "Test accuracy: 0.9854999780654907\n",
            "Epoch 1/5\n",
            "750/750 [==============================] - 4s 3ms/step - loss: 0.2909 - accuracy: 0.9129\n",
            "Epoch 2/5\n",
            "750/750 [==============================] - 2s 3ms/step - loss: 0.0880 - accuracy: 0.9728\n",
            "Epoch 3/5\n",
            "750/750 [==============================] - 2s 3ms/step - loss: 0.0611 - accuracy: 0.9810\n",
            "Epoch 4/5\n",
            "750/750 [==============================] - 2s 3ms/step - loss: 0.0476 - accuracy: 0.9852\n",
            "Epoch 5/5\n",
            "750/750 [==============================] - 2s 3ms/step - loss: 0.0383 - accuracy: 0.9882\n",
            "188/188 [==============================] - 0s 2ms/step - loss: 0.0529 - accuracy: 0.9830\n",
            "157/157 [==============================] - 0s 2ms/step - loss: 0.0469 - accuracy: 0.9840\n",
            "Val accuracy: 0.9829999804496765\n",
            "Test accuracy: 0.984000027179718\n",
            "平均精度: 0.9831999897956848\n"
          ]
        }
      ]
    }
  ]
}