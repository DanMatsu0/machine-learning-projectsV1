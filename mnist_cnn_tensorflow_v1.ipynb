{
  "nbformat": 4,
  "nbformat_minor": 0,
  "metadata": {
    "colab": {
      "provenance": [],
      "authorship_tag": "ABX9TyPIj3gRK6F5jBFEzhzpUCMS",
      "include_colab_link": true
    },
    "kernelspec": {
      "name": "python3",
      "display_name": "Python 3"
    },
    "language_info": {
      "name": "python"
    }
  },
  "cells": [
    {
      "cell_type": "markdown",
      "metadata": {
        "id": "view-in-github",
        "colab_type": "text"
      },
      "source": [
        "<a href=\"https://colab.research.google.com/github/DanMatsu0/machine-learning-projectsV1/blob/main/mnist_cnn_tensorflow_v1.ipynb\" target=\"_parent\"><img src=\"https://colab.research.google.com/assets/colab-badge.svg\" alt=\"Open In Colab\"/></a>"
      ]
    },
    {
      "cell_type": "markdown",
      "source": [
        "Import"
      ],
      "metadata": {
        "id": "d_kIDaDA1_9u"
      }
    },
    {
      "cell_type": "code",
      "execution_count": 1,
      "metadata": {
        "id": "nGT9Fwnh15qL"
      },
      "outputs": [],
      "source": [
        "import tensorflow as tf"
      ]
    },
    {
      "cell_type": "markdown",
      "source": [
        "データセットの読み込み"
      ],
      "metadata": {
        "id": "e-0HNGmk8ng_"
      }
    },
    {
      "cell_type": "code",
      "source": [
        "# データセットのロード\n",
        "(x_train, y_train), (x_test, y_test) = tf.keras.datasets.mnist.load_data()"
      ],
      "metadata": {
        "colab": {
          "base_uri": "https://localhost:8080/"
        },
        "id": "EvVnnQlh9HIc",
        "outputId": "7197c642-e541-41f3-c956-ce9cebb21ce2"
      },
      "execution_count": 2,
      "outputs": [
        {
          "output_type": "stream",
          "name": "stdout",
          "text": [
            "Downloading data from https://storage.googleapis.com/tensorflow/tf-keras-datasets/mnist.npz\n",
            "11490434/11490434 [==============================] - 1s 0us/step\n"
          ]
        }
      ]
    },
    {
      "cell_type": "code",
      "source": [
        "# データの前処理\n",
        "x_train = x_train.reshape(x_train.shape[0], 28, 28, 1)\n",
        "x_test = x_test.reshape(x_test.shape[0], 28, 28, 1)\n",
        "\n",
        "x_train = x_train.astype('float32') / 255\n",
        "x_test = x_test.astype('float32') / 255\n",
        "\n",
        "#V2追加\n",
        "# データセットをバッチ化\n",
        "train_dataset = tf.data.Dataset.from_tensor_slices((x_train, y_train)).batch(64)\n",
        "test_dataset = tf.data.Dataset.from_tensor_slices((x_test, y_test)).batch(64)\n",
        "\n"
      ],
      "metadata": {
        "id": "S4krjp0xHOZm"
      },
      "execution_count": 3,
      "outputs": []
    },
    {
      "cell_type": "code",
      "source": [
        "# 出力結果の固定\n",
        "tf.random.set_seed(0)\n",
        "\n",
        "# モデルの定義\n",
        "model = tf.keras.Sequential([\n",
        "    tf.keras.layers.Conv2D(6, (5, 5), activation='relu', input_shape=(28, 28, 1)),\n",
        "    tf.keras.layers.MaxPooling2D((2, 2)),\n",
        "    tf.keras.layers.Conv2D(16, (5, 5), activation='relu'),\n",
        "    tf.keras.layers.MaxPooling2D((2, 2)),\n",
        "    tf.keras.layers.Flatten(),\n",
        "    tf.keras.layers.Dense(120, activation='relu'),\n",
        "    tf.keras.layers.Dense(10, activation='softmax')\n",
        "])\n",
        "\n",
        "# モデルのコンパイル\n",
        "model.compile(optimizer='adam',\n",
        "              loss='sparse_categorical_crossentropy',\n",
        "              metrics=['accuracy'])\n",
        "\n",
        "# モデルの訓練\n",
        "model.fit(train_dataset, epochs=5, steps_per_epoch=len(train_dataset))\n",
        "\n",
        "# モデルの評価\n",
        "test_loss, test_acc = model.evaluate(x_test, y_test)\n",
        "print('Test accuracy:', test_acc)\n"
      ],
      "metadata": {
        "colab": {
          "base_uri": "https://localhost:8080/"
        },
        "id": "BL8SD_TzRQbL",
        "outputId": "a9756e43-5e55-402f-9c52-bc85452ed5e7"
      },
      "execution_count": 4,
      "outputs": [
        {
          "output_type": "stream",
          "name": "stdout",
          "text": [
            "Epoch 1/5\n",
            "938/938 [==============================] - 17s 17ms/step - loss: 0.2449 - accuracy: 0.9293\n",
            "Epoch 2/5\n",
            "938/938 [==============================] - 15s 16ms/step - loss: 0.0755 - accuracy: 0.9769\n",
            "Epoch 3/5\n",
            "938/938 [==============================] - 15s 16ms/step - loss: 0.0521 - accuracy: 0.9840\n",
            "Epoch 4/5\n",
            "938/938 [==============================] - 15s 16ms/step - loss: 0.0402 - accuracy: 0.9877\n",
            "Epoch 5/5\n",
            "938/938 [==============================] - 15s 16ms/step - loss: 0.0314 - accuracy: 0.9904\n",
            "313/313 [==============================] - 2s 5ms/step - loss: 0.0374 - accuracy: 0.9872\n",
            "Test accuracy: 0.9872000217437744\n"
          ]
        }
      ]
    }
  ]
}